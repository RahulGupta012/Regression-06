{
 "cells": [
  {
   "cell_type": "markdown",
   "id": "d22be936-7437-4154-a5dc-28e0814e4dc7",
   "metadata": {},
   "source": [
    "# REGRESSION : 06"
   ]
  },
  {
   "cell_type": "markdown",
   "id": "5cbc4629-0b87-4e7b-8cf7-357b55e8be04",
   "metadata": {},
   "source": [
    "__________________________________________________________________________________________________________"
   ]
  },
  {
   "cell_type": "markdown",
   "id": "1618246e-fec4-4d58-a1b2-fa720b97ba45",
   "metadata": {},
   "source": [
    "# Q1. What are the key steps involved in building an end-to-end web application, from development to deployment on the cloud?"
   ]
  },
  {
   "cell_type": "markdown",
   "id": "de05d7f9-4410-42fd-8239-a10bd8be654c",
   "metadata": {},
   "source": [
    "There are the key steps to build a web application:\n",
    "    \n",
    "1. Collect the data : Collecting the dataset , for which we are going to analysis.\n",
    "\n",
    "2. Explratory data Analysis (EDA) : EDA is visualization of the data. Examine the basics info about the data, so we got the idea for further analysis.\n",
    "\\\n",
    "3. Feature Engeneering : Find the problems in the data as null values or problem related with data type and solve them. Make the data, liable for the model traing. ie.. scaling  and encoding the data.\n",
    "\n",
    "4. Feature Selection : Selcting those feature who are higly correalted to the dependent feature and removing those features eho are very low correlets to the dependeent feature.\n",
    "\n",
    "5. Model Training : Train the model by giving the tarin and test data.\n",
    "\n",
    "6. Model Selection : Chceking the accuracy of the model and selecting a model for the project as ie..liner, Regression , lasso or Elastic net Regression.\n",
    "\n",
    "7. Make a pickle file : Make a pickle file for further reference\n",
    "\n",
    "8. Make an outlet of html and link with this code for showing the output and getting the inputs. we can use flask For that.\n",
    "\n",
    "8. Sinking with Git Hub : Upload the whole code and all files releted to the project in the Git HUb for Deployment\n",
    "\n",
    "7. Deployment : Retriving the data throug a data pipiline and providing a link of the form , which is used to take inputs and giving the output by undergoing the model."
   ]
  },
  {
   "cell_type": "markdown",
   "id": "1470f41b-63a5-4503-a8a3-5d5797e4afe7",
   "metadata": {},
   "source": [
    "# Q2. Explain the difference between traditional web hosting and cloud hosting."
   ]
  },
  {
   "cell_type": "markdown",
   "id": "e776a7b2-744d-40a9-b193-1217df3d737e",
   "metadata": {},
   "source": [
    "Scalability is not easy in traditional hosting. Cloud hosting allows users to connect additional resources on demand.\n",
    "Traditional web hosting takes only few serveres in one location, while Cloud hosting uses a network of virtual and physical servers in different locations.The performance and reliability of traditional hosting is affected by the server's location.While in the case of Cloud Hosting, such permetars anr never eefected.\n"
   ]
  },
  {
   "cell_type": "markdown",
   "id": "cb819618-b8cf-4b2f-b03c-e8edee262890",
   "metadata": {},
   "source": [
    "# Q3. How do you choose the right cloud provider for your application deployment, and what factors should you consider?"
   ]
  },
  {
   "cell_type": "markdown",
   "id": "bc31f63a-340d-4439-8891-aff5dd723a80",
   "metadata": {},
   "source": [
    "These are the factors that we should consider while selecting a cloud provider\n",
    "\n",
    "- The cost that provider will charge for their service\n",
    "- The feature or tools which is provided to us, can be fulfilled our requirments of application\n",
    "- The securty for our application and information\n",
    "- The reliablity and reputation of the provider.\n",
    "- Interface of cloud\n",
    "- Castumar support provided by provider\n"
   ]
  },
  {
   "cell_type": "markdown",
   "id": "5cb174b2-ff62-4537-8445-c5198090edb2",
   "metadata": {},
   "source": [
    "# Q4. How do you design and build a responsive user interface for your web application, and what are some best practices to follow?"
   ]
  },
  {
   "cell_type": "markdown",
   "id": "f6fb21b1-3dda-47c8-8cdf-8a64ce263607",
   "metadata": {},
   "source": [
    "We can follow such steps :\n",
    "\n",
    "- We have to focus on devloping a responsive layout so that our interface should works responsivly. We need to make such lyout, which can we adjustable with the user's device.\n",
    "\n",
    "- Dimension of clickable areas should be not so small, it should be proper fitted with the button , which is givwn for submit or something else. The button should also be responsible when we do hover on it.\n",
    "\n",
    "- images should be compress so the interface will make fast and in another sense of compressed file is that file should be fitted in proportaion accrording to differnt divices.\n",
    "\n",
    "- The interface should be easy. We do not have aggrigrate all the option at one place ... use nested option for that."
   ]
  },
  {
   "cell_type": "markdown",
   "id": "ad809bbc-d5ea-434d-ab8d-14ac6d74d2e9",
   "metadata": {},
   "source": [
    "# Q5. How do you integrate the machine learning model with the user interface for the Algerian Forest Fires project(which we discussed in class), and what APIs or libraries can you use for this purpose?"
   ]
  },
  {
   "cell_type": "markdown",
   "id": "d156192f-90bc-486f-bcd6-3f88f0b08559",
   "metadata": {},
   "source": [
    "For integrate the meachine learning models, we had using the python's pickle files, in which we had stored the objects or methods of the models.\n",
    "And by the help of flask we had load that pickle file with the html files, where we make a form for taking the inputs and showing the output.Ans at the last we had deploy the web application in aws and got a link by which we are able to accesse those models in any device."
   ]
  },
  {
   "cell_type": "code",
   "execution_count": null,
   "id": "370f5b2f-e8bf-4804-b6d2-150a5bdde567",
   "metadata": {},
   "outputs": [],
   "source": []
  }
 ],
 "metadata": {
  "kernelspec": {
   "display_name": "Python 3 (ipykernel)",
   "language": "python",
   "name": "python3"
  },
  "language_info": {
   "codemirror_mode": {
    "name": "ipython",
    "version": 3
   },
   "file_extension": ".py",
   "mimetype": "text/x-python",
   "name": "python",
   "nbconvert_exporter": "python",
   "pygments_lexer": "ipython3",
   "version": "3.10.8"
  }
 },
 "nbformat": 4,
 "nbformat_minor": 5
}
